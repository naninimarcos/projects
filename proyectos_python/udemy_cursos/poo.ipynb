{
 "cells": [
  {
   "cell_type": "code",
   "execution_count": null,
   "metadata": {},
   "outputs": [],
   "source": [
    "class Instructors:\n",
    "    companyName = \"Bluelime\"\n",
    "\n",
    "    def __init__(self,course,duration):\n",
    "        self.course = course\n",
    "        self.duration = duration\n",
    "    def printinfo(self):\n",
    "        print(\"My company name is \", Instructors.companyName) \n",
    "\n",
    "class Pets:\n",
    "    pass\n",
    "\n",
    "elearning = Instructors(\"Python for beginners\",7)\n",
    "bls= Instructors(\"Django for beginners\",8)\n",
    "bls.course = \"HTML\"\n",
    "bls.printinfo()\n",
    "print(bls.course)\n",
    "print(bls.duration)\n",
    "#\n",
    "del bls.duration\n",
    "#print(bls.duration) #tirara error porque no hay duraccion\n",
    "#\n"
   ]
  },
  {
   "cell_type": "code",
   "execution_count": 14,
   "metadata": {},
   "outputs": [
    {
     "name": "stdout",
     "output_type": "stream",
     "text": [
      "Jane Flowers\n",
      "jack Smiley\n"
     ]
    }
   ],
   "source": [
    "class Person:\n",
    "    def __init__ (self,fname,lname):\n",
    "        self.firstname = fname\n",
    "        self.lastname = lname\n",
    "\n",
    "    def printname(self):\n",
    "        print(self.firstname,self.lastname)\n",
    "    \n",
    "florist = Person(\"Jane\", \"Flowers\")\n",
    "florist.printname()\n",
    "\n",
    "class Lawyers(Person):\n",
    "    pass\n",
    "happy_lawyer = Lawyers(\"jack\",\"Smiley\")\n",
    "happy_lawyer.printname()\n",
    "\n"
   ]
  },
  {
   "cell_type": "code",
   "execution_count": 16,
   "metadata": {},
   "outputs": [
    {
     "name": "stdout",
     "output_type": "stream",
     "text": [
      "Jane Flowers\n",
      "jack Smiley\n"
     ]
    }
   ],
   "source": [
    "class Person:\n",
    "    def __init__ (self,fname,lname):\n",
    "        self.firstname = fname\n",
    "        self.lastname = lname\n",
    "\n",
    "    def printname(self):\n",
    "        print(self.firstname,self.lastname)\n",
    "    \n",
    "florist = Person(\"Jane\", \"Flowers\")\n",
    "florist.printname()\n",
    "\n",
    "class Lawyers(Person):\n",
    "    def __init__ (self,fname,lname):\n",
    "        Person.__init__(self,fname,lname)\n",
    "    def printinfo(self):\n",
    "        print(self.firstname,self.lastname)\n",
    "\n",
    "happy_lawyer = Lawyers(\"jack\",\"Smiley\")\n",
    "happy_lawyer.printname()\n"
   ]
  },
  {
   "cell_type": "code",
   "execution_count": 20,
   "metadata": {},
   "outputs": [
    {
     "name": "stdout",
     "output_type": "stream",
     "text": [
      "Jane Flowers\n",
      "jack Smiley\n",
      "criminal\n"
     ]
    }
   ],
   "source": [
    "class Person:\n",
    "    def __init__ (self,fname,lname):\n",
    "        self.firstname = fname\n",
    "        self.lastname = lname\n",
    "\n",
    "    def printname(self):\n",
    "        print(self.firstname,self.lastname)\n",
    "    \n",
    "florist = Person(\"Jane\", \"Flowers\")\n",
    "florist.printname()\n",
    "\n",
    "class Lawyers(Person):\n",
    "    def __init__ (self,fname,lname,casetype):\n",
    "        Person.__init__(self,fname,lname)\n",
    "        self.casetype = casetype\n",
    "    def printinfo(self):\n",
    "        print(self.firstname,self.lastname)\n",
    "    def printinfo(self):\n",
    "        print(\"hollo my name is\",self.firstname,self.lastname)\n",
    "\n",
    "happy_lawyer = Lawyers(\"jack\",\"Smiley\",\"criminal\")\n",
    "happy_lawyer.printname()\n",
    "\n",
    "print(happy_lawyer.casetype)"
   ]
  },
  {
   "cell_type": "markdown",
   "metadata": {},
   "source": [
    "polymorphism"
   ]
  },
  {
   "cell_type": "code",
   "execution_count": 25,
   "metadata": {},
   "outputs": [
    {
     "name": "stdout",
     "output_type": "stream",
     "text": [
      "18\n",
      "21\n",
      "London is the capital of UK\n",
      "Madrid is the capital of españa\n",
      "London is the capital of UK\n",
      "English is the primary language of UK\n",
      "Madrid is the capital of españa\n",
      "Español is the primary language of España\n"
     ]
    }
   ],
   "source": [
    "def addNumbers(a,b,c=1):\n",
    "    return a + b + c\n",
    "print(addNumbers(8,9))\n",
    "print(addNumbers(8,9,4))\n",
    "\n",
    "class UK():\n",
    "    def capital_city(self):\n",
    "        print(\"London is the capital of UK\")\n",
    "    def language(self):\n",
    "        print(\"English is the primary language of UK\")\n",
    "class Spain():\n",
    "    def capital_city(self):\n",
    "        print(\"Madrid is the capital of españa\")\n",
    "    def language(self):\n",
    "        print(\"Español is the primary language of España\")\n",
    "\n",
    "queen = UK()\n",
    "queen.capital_city()\n",
    "\n",
    "zara = Spain()\n",
    "zara.capital_city()\n",
    "\n",
    "for country in (queen,zara):\n",
    "    country.capital_city()\n",
    "    country.language()"
   ]
  },
  {
   "cell_type": "code",
   "execution_count": 45,
   "metadata": {},
   "outputs": [
    {
     "name": "stdout",
     "output_type": "stream",
     "text": [
      "450\n",
      "500\n",
      "green\n"
     ]
    }
   ],
   "source": [
    "class Cars:\n",
    "    def __init__(self,speed,color):\n",
    "        self.speed = speed\n",
    "        self.color = color\n",
    "    \n",
    "    def set_speed(self,value):\n",
    "        self.speed = value\n",
    "    \n",
    "    def get_speed(self):\n",
    "        return self.speed\n",
    "\n",
    "ford = Cars(200,\"green\")\n",
    "nissan = Cars(250,\"red\")\n",
    "toyota = Cars(150,\"yellow\")\n",
    "\n",
    "ford.set_speed(450)\n",
    "print(ford.get_speed())\n",
    "ford.get_speed()\n",
    "\n",
    "ford.speed = 500\n",
    "print(ford.get_speed())\n",
    "print(ford.color)"
   ]
  },
  {
   "cell_type": "markdown",
   "metadata": {},
   "source": [
    "abstraction"
   ]
  },
  {
   "cell_type": "code",
   "execution_count": 63,
   "metadata": {},
   "outputs": [
    {
     "name": "stdout",
     "output_type": "stream",
     "text": [
      "<__main__.Square object at 0x000001A8917A39D0>\n",
      "25\n",
      "20\n"
     ]
    }
   ],
   "source": [
    "from abc import ABC, abstractmethod\n",
    "class Shape(ABC):\n",
    "    @abstractmethod\n",
    "    def area(self):\n",
    "        pass\n",
    "    @abstractmethod        \n",
    "    def perimeter(self):\n",
    "        pass\n",
    "\n",
    "class Square(Shape):\n",
    "    def __init__(self,side):\n",
    "        self.__side = side\n",
    "    def area(self):\n",
    "        return self.__side* self.__side\n",
    "    def perimeter(self):\n",
    "        return 4 * self.__side\n",
    "#myshape = Shape()\n",
    "\n",
    "mysquare = Square(5)\n",
    "print(mysquare)\n",
    "print(mysquare.area())\n",
    "print(mysquare.perimeter())"
   ]
  }
 ],
 "metadata": {
  "interpreter": {
   "hash": "9a3fc54a1747556b5b3ef4cffb357de3139357048b488e30ba44096d8d7d091f"
  },
  "kernelspec": {
   "display_name": "Python 3.8.9 64-bit",
   "language": "python",
   "name": "python3"
  },
  "language_info": {
   "codemirror_mode": {
    "name": "ipython",
    "version": 3
   },
   "file_extension": ".py",
   "mimetype": "text/x-python",
   "name": "python",
   "nbconvert_exporter": "python",
   "pygments_lexer": "ipython3",
   "version": "3.8.9"
  },
  "orig_nbformat": 4
 },
 "nbformat": 4,
 "nbformat_minor": 2
}
